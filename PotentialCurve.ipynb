{
 "cells": [
  {
   "cell_type": "code",
   "execution_count": 1,
   "metadata": {
    "collapsed": true
   },
   "outputs": [],
   "source": [
    "%matplotlib inline\n",
    "from ipywidgets import interactive\n",
    "import matplotlib.pyplot as plt\n",
    "import numpy as np\n",
    "plt.rcParams['font.size'] = 12"
   ]
  },
  {
   "cell_type": "markdown",
   "metadata": {},
   "source": [
    "Energy Simulator\n",
    "===========\n",
    "This is a simulation of a phi-4 energy with, $f=\frac{1}{2}rc^2+\frac{1}{4}uc^4.\n",
   ]
  },
  {
   "cell_type": "code",
   "execution_count": 2,
   "metadata": {
    "collapsed": true
   },
   "outputs": [],
   "source": [
    "def EnergyVsC(r, u):\n",
    "    plt.figure()\n",
    "    c = np.linspace(0, 5, num=25)\n",
    "    f = 0.5*r*c**2+0.25*u*c**4\n",
    "    plt.plot(c,f,'b')\n",
    "    plt.ylim(0, 12)\n",
    "    plt.xlabel('c')\n",
    "    plt.ylabel('f')\n",
    "    plt.title('Energy')\n",
    "    plt.grid(True)\n",
    "    plt.show()\n",
    "    \n",
   ]
  },
  {
   "cell_type": "markdown",
   "metadata": {
    "collapsed": true
   },
   "source": [
    "Graph 1: The voltage across the resistor. \n",
    "--------------------------------------"
   ]
  },
  {
   "cell_type": "markdown",
   "metadata": {},
   "source": [
    "As you explore your circuit, a good place to start is to adjust only one variable at a time."
   ]
  },
  {
   "cell_type": "code",
   "execution_count": 7,
   "metadata": {},
   "outputs": [
    {
     "data": {
      "application/vnd.jupyter.widget-view+json": {
       "model_id": "cb46fd3e3e9547e9972e965f4053bf1f",
       "version_major": 2,
       "version_minor": 0
      },
      "text/plain": [
       "A Jupyter Widget"
      ]
     },
     "metadata": {},
     "output_type": "display_data"
    }
   ],
   "source": [
    "interactive_plot = interactive(RC_Circuit_Voltage_Resistor, emf=(0, 10.0,1), tau=(1e-4, 25, 0.1),\n",
    "                               continuous_update=False)\n",
    "output = interactive_plot.children[-1]\n",
    "output.layout.height = '300px'\n",
    "interactive_plot"
   ]
  },
 
  {
   "cell_type": "markdown",
   "metadata": {},
   "source": [
    "As you explore your circuit, a good place to start is to adjust only one variable at a time."
   ]
  }

