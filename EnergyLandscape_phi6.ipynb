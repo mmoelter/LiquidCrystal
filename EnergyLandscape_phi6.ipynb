{
 "cells": [
  {
   "cell_type": "code",
   "execution_count": 1,
   "metadata": {},
   "outputs": [],
   "source": [
    "%matplotlib inline\n",
    "from ipywidgets import interactive\n",
    "import matplotlib.pyplot as plt\n",
    "from matplotlib import cm\n",
    "from mpl_toolkits.mplot3d import Axes3D\n",
    "import numpy as np\n",
    "plt.rcParams['font.size'] = 12"
   ]
  },
  {
   "cell_type": "markdown",
   "metadata": {},
   "source": [
    "# Energy Landscape Simulator\n",
    "\n",
    "This is a simulation of an energy landscape with an external field.\n",
    "$$f = \\frac{1}{2}rc^2+\\frac{1}{4}uc^4+\\frac{1}{6}vc^6-Ec_x$$"
   ]
  },
  {
   "cell_type": "markdown",
   "metadata": {},
   "source": [
    "As you explore the landscape, a good practice is to adjust only one variable at a time."
   ]
  },
  {
   "cell_type": "code",
   "execution_count": 2,
   "metadata": {},
   "outputs": [],
   "source": [
    "def EnergyVsCwithE(r,u,v,E):\n",
    "#     plt.subplot(1,2,1)\n",
    "    plt.figure()\n",
    "    ax = plt.figure().gca(projection='3d')\n",
    "    x = np.arange(-2, 2, 0.01)\n",
    "    y = np.arange(-2, 2, 0.01)\n",
    "    x, y = np.meshgrid(x, y)\n",
    "    c = np.sqrt(x**2+y**2)\n",
    "    f = 0.5*r*c**2+0.25*u*c**4+(1/6.0)*v*c**6-E*x\n",
    "    myplot = ax.plot_surface(x, y, f, cmap = cm.coolwarm)\n",
    "   \n",
    "#     plt.xlim(-10,10)\n",
    "#     plt.ylim(-40, 80)\n",
    "    plt.xlabel('$c_x$')\n",
    "    plt.ylabel('$c_y$')\n",
    "#     ax.set_zlim(0,5)\n",
    "    ax.set_zlabel('$f$')\n",
    "    plt.title(\"$\\phi^6\\ , E=$\"+str(E))\n",
    "    plt.grid(True)\n",
    "#     plt.subplot(1,2,2)\n",
    "#     mycont = plt.contour(x,y,f)\n",
    "    plt.show()"
   ]
  },
  {
   "cell_type": "code",
   "execution_count": 3,
   "metadata": {},
   "outputs": [
    {
     "data": {
      "application/vnd.jupyter.widget-view+json": {
       "model_id": "f5385432f0304629beab3ade28f4d583",
       "version_major": 2,
       "version_minor": 0
      },
      "text/html": [
       "<p>Failed to display Jupyter Widget of type <code>interactive</code>.</p>\n",
       "<p>\n",
       "  If you're reading this message in the Jupyter Notebook or JupyterLab Notebook, it may mean\n",
       "  that the widgets JavaScript is still loading. If this message persists, it\n",
       "  likely means that the widgets JavaScript library is either not installed or\n",
       "  not enabled. See the <a href=\"https://ipywidgets.readthedocs.io/en/stable/user_install.html\">Jupyter\n",
       "  Widgets Documentation</a> for setup instructions.\n",
       "</p>\n",
       "<p>\n",
       "  If you're reading this message in another frontend (for example, a static\n",
       "  rendering on GitHub or <a href=\"https://nbviewer.jupyter.org/\">NBViewer</a>),\n",
       "  it may mean that your frontend doesn't currently support widgets.\n",
       "</p>\n"
      ],
      "text/plain": [
       "interactive(children=(FloatSlider(value=0.0, description='r', max=5.0, min=-5.0), FloatSlider(value=0.0, description='u', max=4.0, min=-4.0, step=0.02), IntSlider(value=1, description='v', max=2), FloatSlider(value=5.0, description='E', max=10.0), Output(layout=Layout(height='400px'))), _dom_classes=('widget-interact',))"
      ]
     },
     "metadata": {},
     "output_type": "display_data"
    }
   ],
   "source": [
    "interactive_plot = interactive(EnergyVsCwithE, r=(-5,5,0.1), u=(-4,4, 0.02),v=(0,2,1),E=(0,10,0.1),\n",
    "                               continuous_update=False)\n",
    "output = interactive_plot.children[-1]\n",
    "output.layout.height = '400px'\n",
    "interactive_plot"
   ]
  },
  {
   "cell_type": "code",
   "execution_count": null,
   "metadata": {},
   "outputs": [],
   "source": []
  },
  {
   "cell_type": "code",
   "execution_count": null,
   "metadata": {},
   "outputs": [],
   "source": []
  }
 ],
 "metadata": {
  "kernelspec": {
   "display_name": "Python 3",
   "language": "python",
   "name": "python3"
  },
  "language_info": {
   "codemirror_mode": {
    "name": "ipython",
    "version": 3
   },
   "file_extension": ".py",
   "mimetype": "text/x-python",
   "name": "python",
   "nbconvert_exporter": "python",
   "pygments_lexer": "ipython3",
   "version": "3.6.4"
  }
 },
 "nbformat": 4,
 "nbformat_minor": 2
}
