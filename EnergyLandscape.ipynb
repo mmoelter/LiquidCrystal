{
 "cells": [
  {
   "cell_type": "code",
   "execution_count": 1,
   "metadata": {
    "collapsed": true
   },
   "outputs": [],
   "source": [
    "%matplotlib inline\n",
    "from ipywidgets import interactive\n",
    "import matplotlib.pyplot as plt\n",
    "import numpy as np\n",
    "plt.rcParams['font.size'] = 12"
   ]
  },
  {
   "cell_type": "markdown",
   "metadata": {},
   "source": [
    "# Energy Landscape Simulator\n",
    "\n",
    "This is a simulation of a $\\phi^4$ energy landscape with an external field.\n",
    "$$f = \\frac{1}{2}rc^2+\\frac{1}{4}uc^4-Ec$$"
   ]
  },
  {
   "cell_type": "markdown",
   "metadata": {},
   "source": [
    "As you explore the landscape, a good practice is to adjust only one variable at a time."
   ]
  },
  {
   "cell_type": "code",
   "execution_count": 19,
   "metadata": {},
   "outputs": [],
   "source": [
    "def EnergyVsCwithE(r,u,E):\n",
    "    plt.figure()\n",
    "    c = np.linspace(-10, 10, num=50)\n",
    "    f = 0.5*r*c**2+0.25*u*c**4-E*c\n",
    "    c0 = 0\n",
    "    if u >= 0:\n",
    "        c1 = None\n",
    "        c2 = None\n",
    "    else:\n",
    "        c1 = np.sqrt(-r/(u+0.001))\n",
    "        c2 = -np.sqrt(-r/(u+0.001))\n",
    "    plt.plot(c, f,'b')\n",
    "    plt.xlim(-10,10)\n",
    "    plt.ylim(-40, 80)\n",
    "    plt.xlabel('c')\n",
    "    plt.ylabel('f')\n",
    "    plt.title(\"$\\phi^4\\ , E=$\"+str(E))\n",
    "    plt.grid(True)\n",
    "    plt.plot([c0,c1,c2],[0,0,0],'bo')\n",
    "    plt.show()"
   ]
  },
  {
   "cell_type": "code",
   "execution_count": 21,
   "metadata": {},
   "outputs": [
    {
     "data": {
      "application/vnd.jupyter.widget-view+json": {
       "model_id": "0b0d2c50228d437cbc63c388c16a7972",
       "version_major": 2,
       "version_minor": 0
      },
      "text/plain": [
       "A Jupyter Widget"
      ]
     },
     "metadata": {},
     "output_type": "display_data"
    }
   ],
   "source": [
    "interactive_plot = interactive(EnergyVsCwithE, r=(0,5,0.1), u=(-0.5,0.5, 0.02),E=(0,4,0.1),\n",
    "                               continuous_update=False)\n",
    "output = interactive_plot.children[-1]\n",
    "output.layout.height = '300px'\n",
    "interactive_plot"
   ]
  },
  {
   "cell_type": "code",
   "execution_count": null,
   "metadata": {
    "collapsed": true
   },
   "outputs": [],
   "source": []
  }
 ],
 "metadata": {
  "kernelspec": {
   "display_name": "Python 3",
   "language": "python",
   "name": "python3"
  },
  "language_info": {
   "codemirror_mode": {
    "name": "ipython",
    "version": 3
   },
   "file_extension": ".py",
   "mimetype": "text/x-python",
   "name": "python",
   "nbconvert_exporter": "python",
   "pygments_lexer": "ipython3",
   "version": "3.6.3"
  }
 },
 "nbformat": 4,
 "nbformat_minor": 2
}
